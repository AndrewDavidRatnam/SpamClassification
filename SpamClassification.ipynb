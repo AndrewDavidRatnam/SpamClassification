{
  "nbformat": 4,
  "nbformat_minor": 0,
  "metadata": {
    "colab": {
      "provenance": [],
      "collapsed_sections": [
        "zMdtygW3izX1",
        "ch1aZ8DxjCPo"
      ]
    },
    "kernelspec": {
      "name": "python3",
      "display_name": "Python 3"
    },
    "language_info": {
      "name": "python"
    }
  },
  "cells": [
    {
      "cell_type": "markdown",
      "source": [
        "# SPAM CLASSIFICATION\n",
        "[Dataset: \t20050311_spam_2.tar.bz2\t2005-03-11 23:55 ](https://spamassassin.apache.org/old/publiccorpus/)"
      ],
      "metadata": {
        "id": "bSaRVmA-Pxxt"
      }
    },
    {
      "cell_type": "code",
      "source": [
        "import numpy as np\n",
        "import matplotlib.pyplot as plt\n",
        "import pandas as pd\n"
      ],
      "metadata": {
        "id": "JkEWbsdeP4Kp"
      },
      "execution_count": 1,
      "outputs": []
    },
    {
      "cell_type": "markdown",
      "source": [
        "## Data Extraction"
      ],
      "metadata": {
        "id": "5Oz1s4vQdHxB"
      }
    },
    {
      "cell_type": "markdown",
      "source": [
        "### Reduntant"
      ],
      "metadata": {
        "id": "zMdtygW3izX1"
      }
    },
    {
      "cell_type": "code",
      "source": [
        "# \"\"\"import tarfile\n",
        "# def ExtractDataFrom_tarbz2(Filepath):\n",
        "#   try:\n",
        "#     with tarfile.open(Filepath, \"r:bz2\") as tar:\n",
        "#       tar.extractall(path=\"\") # current directory\n",
        "#       return \"File Extracted Successfully\"\n",
        "#   except Exception as e:\n",
        "\n",
        "# ExtractDataFrom_tarbz2(\"20050311_spam_2.tar.bz2\")\"\"\"\n",
        "\n",
        "# \"\"\"import os\n",
        "# import email\n",
        "# import csv\n",
        "\n",
        "# email_data = []\n",
        "\n",
        "# def get_single_email_data(message):\n",
        "#       subject = message[\"Subject\"] #print(\"Subject:\", message[\"Subject\"])\n",
        "#       body = message.get_payload() #print(\"Body:\", body)\n",
        "#       for part in message.walk():\n",
        "#         if part.get_content_maintype() == \"application\" and part.get(\"Content-Disposition\"):\n",
        "#           filename = part.get_filename()\n",
        "#       sender = message[\"From\"]\n",
        "#       recipients_to = message[\"To\"]\n",
        "#       recipients_cc = message[\"Cc\"]\n",
        "#       recipients_bcc = message[\"Bcc\"]\n",
        "#       date = message[\"Date\"]\n",
        "#       try:\n",
        "#         return {\n",
        "#         \"Attachment\": filename,\n",
        "#         \"Date\": date,\n",
        "#         \"Subject\": subject,\n",
        "#         \"Sender\": sender,\n",
        "#         \"Recipients_To\": recipients_to,\n",
        "#         \"Recipients_Cc\": recipients_cc,\n",
        "#         \"Recipients_Bcc\": recipients_bcc,\n",
        "#         \"Body\": body\n",
        "#     }\n",
        "#       except:\n",
        "#         return {\n",
        "#           \"Attachment\": \"NO ATTACHMENTS\",\n",
        "#           \"Date\": date,\n",
        "#           \"Subject\": subject,\n",
        "#           \"Sender\": sender,\n",
        "#           \"Recipients_To\": recipients_to,\n",
        "#           \"Recipients_Cc\": recipients_cc,\n",
        "#           \"Recipients_Bcc\": recipients_bcc,\n",
        "#           \"Body\": body\n",
        "#       }\n",
        "\n",
        "\n",
        "\n",
        "# for filename in os.listdir(\"/content/spam_2\"):\n",
        "#   i = 1\n",
        "#   filepath = os.path.join(\"/content/spam_2\", filename)\n",
        "#   with open(filepath, \"r\", encoding=\"latin1\") as file:\n",
        "#       message = email.message_from_file(file)\n",
        "#       email_data.append(get_single_email_data(message))\n",
        "#       #headers = message.items()\n",
        "#       #print(headers)\n",
        "\n",
        "#       \"\"\"\n",
        "\n",
        "# \"\"\"csv_file_path = \"/content/email_data.csv\"\n",
        "# df = pd.DataFrame(email_data)\n",
        "# df.to_csv(csv_file_path, index=False)\"\"\"\n",
        ""
      ],
      "metadata": {
        "id": "TpLclI4PQVcx"
      },
      "execution_count": 36,
      "outputs": []
    },
    {
      "cell_type": "code",
      "source": [],
      "metadata": {
        "id": "2Fk5jSR_hcp_"
      },
      "execution_count": null,
      "outputs": []
    },
    {
      "cell_type": "markdown",
      "source": [
        "### ."
      ],
      "metadata": {
        "id": "a695AN2ui4Q9"
      }
    },
    {
      "cell_type": "code",
      "source": [
        "import tarfile\n",
        "from pathlib import Path\n",
        "import urllib.request\n",
        "def fetch_spam_data():   #Retrieves the data from Spam Assasin and returns the paths it was downloaded to\n",
        "    spam_root = \"http://spamassassin.apache.org/old/publiccorpus/\"\n",
        "    ham_url = spam_root + \"20030228_easy_ham.tar.bz2\"\n",
        "    spam_url = spam_root + \"20030228_spam.tar.bz2\"\n",
        "\n",
        "    spam_path = Path() / \"datasets\" / \"spam\"\n",
        "    spam_path.mkdir(parents=True, exist_ok=True)\n",
        "    for dir_name, tar_name, url in ((\"easy_ham\", \"ham\", ham_url),\n",
        "                                    (\"spam\", \"spam\", spam_url)):\n",
        "        if not (spam_path / dir_name).is_dir():\n",
        "            path = (spam_path / tar_name).with_suffix(\".tar.bz2\")\n",
        "            print(\"Downloading\", path)\n",
        "            urllib.request.urlretrieve(url, path)\n",
        "            tar_bz2_file = tarfile.open(path)\n",
        "            tar_bz2_file.extractall(path=spam_path)\n",
        "            tar_bz2_file.close()\n",
        "    return [spam_path / dir_name for dir_name in (\"easy_ham\", \"spam\")]"
      ],
      "metadata": {
        "id": "65euCCxzhY6a"
      },
      "execution_count": 40,
      "outputs": []
    },
    {
      "cell_type": "code",
      "source": [
        "ham_dir, spam_dir = fetch_spam_data()"
      ],
      "metadata": {
        "colab": {
          "base_uri": "https://localhost:8080/"
        },
        "id": "T1Zkl3TnQ0RS",
        "outputId": "3c7eb129-2e42-4e13-e460-bc43ccf58368"
      },
      "execution_count": 41,
      "outputs": [
        {
          "output_type": "stream",
          "name": "stdout",
          "text": [
            "Downloading datasets/spam/ham.tar.bz2\n",
            "Downloading datasets/spam/spam.tar.bz2\n"
          ]
        }
      ]
    },
    {
      "cell_type": "code",
      "source": [
        "ham_filenames = [f for f in sorted(ham_dir.iterdir()) if len(f.name) > 20]\n",
        "spam_filenames = [f for f in sorted(spam_dir.iterdir()) if len(f.name) > 20]\n",
        "len(ham_filenames), len(spam_filenames)"
      ],
      "metadata": {
        "colab": {
          "base_uri": "https://localhost:8080/"
        },
        "id": "KCD49BagSr5C",
        "outputId": "8269ce0a-f39a-4748-e51e-1b91d2926eec"
      },
      "execution_count": 42,
      "outputs": [
        {
          "output_type": "execute_result",
          "data": {
            "text/plain": [
              "(2500, 500)"
            ]
          },
          "metadata": {},
          "execution_count": 42
        }
      ]
    },
    {
      "cell_type": "code",
      "source": [
        "import email\n",
        "import email.policy\n",
        "\n",
        "def load_email(filepath):\n",
        "  with open(filepath, \"rb\") as f:\n",
        "    return email.parser.BytesParser(policy=email.policy.default).parse(f)\n"
      ],
      "metadata": {
        "id": "BCWEvIYxcAcY"
      },
      "execution_count": 43,
      "outputs": []
    },
    {
      "cell_type": "code",
      "source": [
        "ham_emails = [load_email(filepath) for filepath in ham_filenames]\n",
        "spam_emails = [load_email(filepath) for filepath in spam_filenames]"
      ],
      "metadata": {
        "id": "JG2Fb5D2mFRK"
      },
      "execution_count": 44,
      "outputs": []
    },
    {
      "cell_type": "code",
      "source": [
        "print(ham_emails[1].get_content().strip())"
      ],
      "metadata": {
        "colab": {
          "base_uri": "https://localhost:8080/"
        },
        "id": "vo0huwhjmFMD",
        "outputId": "464c6013-5ac2-4024-8291-f0c21a53371d"
      },
      "execution_count": 45,
      "outputs": [
        {
          "output_type": "stream",
          "name": "stdout",
          "text": [
            "Martin A posted:\n",
            "Tassos Papadopoulos, the Greek sculptor behind the plan, judged that the\n",
            " limestone of Mount Kerdylio, 70 miles east of Salonika and not far from the\n",
            " Mount Athos monastic community, was ideal for the patriotic sculpture. \n",
            " \n",
            " As well as Alexander's granite features, 240 ft high and 170 ft wide, a\n",
            " museum, a restored amphitheatre and car park for admiring crowds are\n",
            "planned\n",
            "---------------------\n",
            "So is this mountain limestone or granite?\n",
            "If it's limestone, it'll weather pretty fast.\n",
            "\n",
            "------------------------ Yahoo! Groups Sponsor ---------------------~-->\n",
            "4 DVDs Free +s&p Join Now\n",
            "http://us.click.yahoo.com/pt6YBB/NXiEAA/mG3HAA/7gSolB/TM\n",
            "---------------------------------------------------------------------~->\n",
            "\n",
            "To unsubscribe from this group, send an email to:\n",
            "forteana-unsubscribe@egroups.com\n",
            "\n",
            " \n",
            "\n",
            "Your use of Yahoo! Groups is subject to http://docs.yahoo.com/info/terms/\n"
          ]
        }
      ]
    },
    {
      "cell_type": "code",
      "source": [
        "print(spam_emails[6].get_content().strip())"
      ],
      "metadata": {
        "colab": {
          "base_uri": "https://localhost:8080/"
        },
        "id": "iO3r8hqmmiwW",
        "outputId": "d50cdd05-8c66-42be-828f-3391973fb620"
      },
      "execution_count": 46,
      "outputs": [
        {
          "output_type": "stream",
          "name": "stdout",
          "text": [
            "Help wanted.  We are a 14 year old fortune 500 company, that is\n",
            "growing at a tremendous rate.  We are looking for individuals who\n",
            "want to work from home.\n",
            "\n",
            "This is an opportunity to make an excellent income.  No experience\n",
            "is required.  We will train you.\n",
            "\n",
            "So if you are looking to be employed from home with a career that has\n",
            "vast opportunities, then go:\n",
            "\n",
            "http://www.basetel.com/wealthnow\n",
            "\n",
            "We are looking for energetic and self motivated people.  If that is you\n",
            "than click on the link and fill out the form, and one of our\n",
            "employement specialist will contact you.\n",
            "\n",
            "To be removed from our link simple go to:\n",
            "\n",
            "http://www.basetel.com/remove.html\n",
            "\n",
            "\n",
            "4139vOLW7-758DoDY1425FRhM1-764SMFc8513fCsLl40\n"
          ]
        }
      ]
    },
    {
      "cell_type": "code",
      "source": [
        "def get_email_structure(email):\n",
        "  if isInstance(email, str):\n",
        "    return email\n",
        "  payload = email.get_payload()\n",
        "  if isinstance(payload, list):\n",
        "    multipart = \", \".join([get_email_structure(sub_email) for sub_email in payload])\n",
        "    return f\"multipart({multipart})\"\n",
        "  else:\n",
        "    return email.get_content_type()"
      ],
      "metadata": {
        "id": "Ayt6ZHOemxqa"
      },
      "execution_count": null,
      "outputs": []
    },
    {
      "cell_type": "code",
      "source": [],
      "metadata": {
        "id": "FRlqK6c3mxoE"
      },
      "execution_count": null,
      "outputs": []
    },
    {
      "cell_type": "code",
      "source": [],
      "metadata": {
        "id": "prYahtbpmxlj"
      },
      "execution_count": null,
      "outputs": []
    },
    {
      "cell_type": "code",
      "source": [],
      "metadata": {
        "id": "oQNTtdnEmxjM"
      },
      "execution_count": null,
      "outputs": []
    },
    {
      "cell_type": "code",
      "source": [],
      "metadata": {
        "id": "XYg9a9Samxg-"
      },
      "execution_count": null,
      "outputs": []
    },
    {
      "cell_type": "code",
      "source": [],
      "metadata": {
        "id": "tw_lCJGCmxeb"
      },
      "execution_count": null,
      "outputs": []
    },
    {
      "cell_type": "code",
      "source": [],
      "metadata": {
        "id": "kiZeaQJ-mxcI"
      },
      "execution_count": null,
      "outputs": []
    },
    {
      "cell_type": "code",
      "source": [],
      "metadata": {
        "id": "KKJfiA9CmxZ0"
      },
      "execution_count": null,
      "outputs": []
    },
    {
      "cell_type": "code",
      "source": [],
      "metadata": {
        "id": "xWxdOQy6mxXT"
      },
      "execution_count": null,
      "outputs": []
    },
    {
      "cell_type": "code",
      "source": [],
      "metadata": {
        "id": "MAgD3TLQmxU7"
      },
      "execution_count": null,
      "outputs": []
    },
    {
      "cell_type": "code",
      "source": [],
      "metadata": {
        "id": "bqOIe2CNmxSS"
      },
      "execution_count": null,
      "outputs": []
    },
    {
      "cell_type": "code",
      "source": [],
      "metadata": {
        "id": "LCmv19ZjmxQK"
      },
      "execution_count": null,
      "outputs": []
    },
    {
      "cell_type": "code",
      "source": [],
      "metadata": {
        "id": "4XiOoWQAmxNq"
      },
      "execution_count": null,
      "outputs": []
    },
    {
      "cell_type": "code",
      "source": [],
      "metadata": {
        "id": "_1F_IjSSmxLQ"
      },
      "execution_count": null,
      "outputs": []
    },
    {
      "cell_type": "code",
      "source": [],
      "metadata": {
        "id": "uhsS_YzrmxJI"
      },
      "execution_count": null,
      "outputs": []
    },
    {
      "cell_type": "markdown",
      "source": [
        "## DATA PREPROCESSING"
      ],
      "metadata": {
        "id": "7EErdSy9dUf6"
      }
    },
    {
      "cell_type": "markdown",
      "source": [
        "### Redundant"
      ],
      "metadata": {
        "id": "ch1aZ8DxjCPo"
      }
    },
    {
      "cell_type": "code",
      "source": [
        "datafile = \"/content/email_data.csv\"\n",
        "data = pd.read_csv(datafile)\n",
        "data.columns"
      ],
      "metadata": {
        "colab": {
          "base_uri": "https://localhost:8080/"
        },
        "id": "NiYPkfMJcM1_",
        "outputId": "10043513-724c-468c-bead-d79f75511d7c"
      },
      "execution_count": 34,
      "outputs": [
        {
          "output_type": "execute_result",
          "data": {
            "text/plain": [
              "Index(['Attachment', 'Date', 'Subject', 'Sender', 'Recipients_To',\n",
              "       'Recipients_Cc', 'Recipients_Bcc', 'Body'],\n",
              "      dtype='object')"
            ]
          },
          "metadata": {},
          "execution_count": 34
        }
      ]
    },
    {
      "cell_type": "markdown",
      "source": [
        "### ."
      ],
      "metadata": {
        "id": "fcmfcm50jGA8"
      }
    },
    {
      "cell_type": "code",
      "source": [],
      "metadata": {
        "id": "DGlevF2zdeHZ"
      },
      "execution_count": null,
      "outputs": []
    }
  ]
}