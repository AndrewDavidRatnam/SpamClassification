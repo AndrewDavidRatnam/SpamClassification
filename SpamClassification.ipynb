{
  "nbformat": 4,
  "nbformat_minor": 0,
  "metadata": {
    "colab": {
      "provenance": [],
      "collapsed_sections": [
        "zMdtygW3izX1",
        "ch1aZ8DxjCPo"
      ],
      "authorship_tag": "ABX9TyO0ny+3b25Q31LSUfsqgW5N",
      "include_colab_link": true
    },
    "kernelspec": {
      "name": "python3",
      "display_name": "Python 3"
    },
    "language_info": {
      "name": "python"
    }
  },
  "cells": [
    {
      "cell_type": "markdown",
      "metadata": {
        "id": "view-in-github",
        "colab_type": "text"
      },
      "source": [
        "<a href=\"https://colab.research.google.com/github/AndrewDavidRatnam/SpamClassification/blob/main/SpamClassification.ipynb\" target=\"_parent\"><img src=\"https://colab.research.google.com/assets/colab-badge.svg\" alt=\"Open In Colab\"/></a>"
      ]
    },
    {
      "cell_type": "markdown",
      "source": [
        "# SPAM CLASSIFICATION\n",
        "[Dataset](https://spamassassin.apache.org/old/publiccorpus/)"
      ],
      "metadata": {
        "id": "bSaRVmA-Pxxt"
      }
    },
    {
      "cell_type": "code",
      "source": [
        "import numpy as np\n",
        "import matplotlib.pyplot as plt\n",
        "import pandas as pd\n"
      ],
      "metadata": {
        "id": "JkEWbsdeP4Kp"
      },
      "execution_count": 1,
      "outputs": []
    },
    {
      "cell_type": "markdown",
      "source": [
        "## Data Extraction"
      ],
      "metadata": {
        "id": "5Oz1s4vQdHxB"
      }
    },
    {
      "cell_type": "markdown",
      "source": [
        "### Redundant"
      ],
      "metadata": {
        "id": "ch1aZ8DxjCPo"
      }
    },
    {
      "cell_type": "code",
      "source": [
        "# datafile = \"/content/email_data.csv\"\n",
        "# data = pd.read_csv(datafile)\n",
        "# data.columns"
      ],
      "metadata": {
        "id": "NiYPkfMJcM1_"
      },
      "execution_count": null,
      "outputs": []
    },
    {
      "cell_type": "code",
      "source": [
        "# \"\"\"import tarfile\n",
        "# def ExtractDataFrom_tarbz2(Filepath):\n",
        "#   try:\n",
        "#     with tarfile.open(Filepath, \"r:bz2\") as tar:\n",
        "#       tar.extractall(path=\"\") # current directory\n",
        "#       return \"File Extracted Successfully\"\n",
        "#   except Exception as e:\n",
        "\n",
        "# ExtractDataFrom_tarbz2(\"20050311_spam_2.tar.bz2\")\"\"\"\n",
        "\n",
        "# \"\"\"import os\n",
        "# import email\n",
        "# import csv\n",
        "\n",
        "# email_data = []\n",
        "\n",
        "# def get_single_email_data(message):\n",
        "#       subject = message[\"Subject\"] #print(\"Subject:\", message[\"Subject\"])\n",
        "#       body = message.get_payload() #print(\"Body:\", body)\n",
        "#       for part in message.walk():\n",
        "#         if part.get_content_maintype() == \"application\" and part.get(\"Content-Disposition\"):\n",
        "#           filename = part.get_filename()\n",
        "#       sender = message[\"From\"]\n",
        "#       recipients_to = message[\"To\"]\n",
        "#       recipients_cc = message[\"Cc\"]\n",
        "#       recipients_bcc = message[\"Bcc\"]\n",
        "#       date = message[\"Date\"]\n",
        "#       try:\n",
        "#         return {\n",
        "#         \"Attachment\": filename,\n",
        "#         \"Date\": date,\n",
        "#         \"Subject\": subject,\n",
        "#         \"Sender\": sender,\n",
        "#         \"Recipients_To\": recipients_to,\n",
        "#         \"Recipients_Cc\": recipients_cc,\n",
        "#         \"Recipients_Bcc\": recipients_bcc,\n",
        "#         \"Body\": body\n",
        "#     }\n",
        "#       except:\n",
        "#         return {\n",
        "#           \"Attachment\": \"NO ATTACHMENTS\",\n",
        "#           \"Date\": date,\n",
        "#           \"Subject\": subject,\n",
        "#           \"Sender\": sender,\n",
        "#           \"Recipients_To\": recipients_to,\n",
        "#           \"Recipients_Cc\": recipients_cc,\n",
        "#           \"Recipients_Bcc\": recipients_bcc,\n",
        "#           \"Body\": body\n",
        "#       }\n",
        "\n",
        "\n",
        "\n",
        "# for filename in os.listdir(\"/content/spam_2\"):\n",
        "#   i = 1\n",
        "#   filepath = os.path.join(\"/content/spam_2\", filename)\n",
        "#   with open(filepath, \"r\", encoding=\"latin1\") as file:\n",
        "#       message = email.message_from_file(file)\n",
        "#       email_data.append(get_single_email_data(message))\n",
        "#       #headers = message.items()\n",
        "#       #print(headers)\n",
        "\n",
        "#       \"\"\"\n",
        "\n",
        "# \"\"\"csv_file_path = \"/content/email_data.csv\"\n",
        "# df = pd.DataFrame(email_data)\n",
        "# df.to_csv(csv_file_path, index=False)\"\"\"\n"
      ],
      "metadata": {
        "id": "TpLclI4PQVcx"
      },
      "execution_count": 2,
      "outputs": []
    },
    {
      "cell_type": "code",
      "source": [],
      "metadata": {
        "id": "2Fk5jSR_hcp_"
      },
      "execution_count": 2,
      "outputs": []
    },
    {
      "cell_type": "markdown",
      "source": [
        "### ."
      ],
      "metadata": {
        "id": "a695AN2ui4Q9"
      }
    },
    {
      "cell_type": "code",
      "source": [
        "import tarfile\n",
        "from pathlib import Path\n",
        "import urllib.request\n",
        "def fetch_spam_data():   #Retrieves the data from Spam Assasin and returns the paths it was downloaded to\n",
        "    spam_root = \"http://spamassassin.apache.org/old/publiccorpus/\"\n",
        "    ham_url = spam_root + \"20030228_easy_ham.tar.bz2\"\n",
        "    spam_url = spam_root + \"20030228_spam.tar.bz2\"\n",
        "\n",
        "    spam_path = Path() / \"datasets\" / \"spam\"\n",
        "    spam_path.mkdir(parents=True, exist_ok=True)\n",
        "    for dir_name, tar_name, url in ((\"easy_ham\", \"ham\", ham_url),\n",
        "                                    (\"spam\", \"spam\", spam_url)):\n",
        "        if not (spam_path / dir_name).is_dir():\n",
        "            path = (spam_path / tar_name).with_suffix(\".tar.bz2\")\n",
        "            print(\"Downloading\", path)\n",
        "            urllib.request.urlretrieve(url, path)\n",
        "            tar_bz2_file = tarfile.open(path)\n",
        "            tar_bz2_file.extractall(path=spam_path)\n",
        "            tar_bz2_file.close()\n",
        "    return [spam_path / dir_name for dir_name in (\"easy_ham\", \"spam\")]"
      ],
      "metadata": {
        "id": "65euCCxzhY6a"
      },
      "execution_count": 3,
      "outputs": []
    },
    {
      "cell_type": "code",
      "source": [
        "ham_dir, spam_dir = fetch_spam_data()"
      ],
      "metadata": {
        "colab": {
          "base_uri": "https://localhost:8080/"
        },
        "id": "T1Zkl3TnQ0RS",
        "outputId": "22ca21b4-d2cf-46b8-f157-582c654ceb8e"
      },
      "execution_count": 4,
      "outputs": [
        {
          "output_type": "stream",
          "name": "stdout",
          "text": [
            "Downloading datasets/spam/ham.tar.bz2\n",
            "Downloading datasets/spam/spam.tar.bz2\n"
          ]
        }
      ]
    },
    {
      "cell_type": "code",
      "source": [
        "ham_filenames = [f for f in sorted(ham_dir.iterdir()) if len(f.name) > 20]\n",
        "spam_filenames = [f for f in sorted(spam_dir.iterdir()) if len(f.name) > 20]\n",
        "len(ham_filenames), len(spam_filenames)"
      ],
      "metadata": {
        "colab": {
          "base_uri": "https://localhost:8080/"
        },
        "id": "KCD49BagSr5C",
        "outputId": "ce402b33-3130-40ba-b61f-37efe6febc8e"
      },
      "execution_count": 5,
      "outputs": [
        {
          "output_type": "execute_result",
          "data": {
            "text/plain": [
              "(2500, 500)"
            ]
          },
          "metadata": {},
          "execution_count": 5
        }
      ]
    },
    {
      "cell_type": "code",
      "source": [
        "import email\n",
        "import email.policy\n",
        "\n",
        "def load_email(filepath):\n",
        "  with open(filepath, \"rb\") as f:\n",
        "    return email.parser.BytesParser(policy=email.policy.default).parse(f)\n"
      ],
      "metadata": {
        "id": "BCWEvIYxcAcY"
      },
      "execution_count": 6,
      "outputs": []
    },
    {
      "cell_type": "code",
      "source": [
        "ham_emails = [load_email(filepath) for filepath in ham_filenames]\n",
        "spam_emails = [load_email(filepath) for filepath in spam_filenames]"
      ],
      "metadata": {
        "id": "JG2Fb5D2mFRK"
      },
      "execution_count": 7,
      "outputs": []
    },
    {
      "cell_type": "code",
      "source": [
        "print(ham_emails[1].get_content().strip())"
      ],
      "metadata": {
        "colab": {
          "base_uri": "https://localhost:8080/"
        },
        "id": "vo0huwhjmFMD",
        "outputId": "52fa0737-197a-48db-dd5f-3d8738c4fd44"
      },
      "execution_count": 8,
      "outputs": [
        {
          "output_type": "stream",
          "name": "stdout",
          "text": [
            "Martin A posted:\n",
            "Tassos Papadopoulos, the Greek sculptor behind the plan, judged that the\n",
            " limestone of Mount Kerdylio, 70 miles east of Salonika and not far from the\n",
            " Mount Athos monastic community, was ideal for the patriotic sculpture. \n",
            " \n",
            " As well as Alexander's granite features, 240 ft high and 170 ft wide, a\n",
            " museum, a restored amphitheatre and car park for admiring crowds are\n",
            "planned\n",
            "---------------------\n",
            "So is this mountain limestone or granite?\n",
            "If it's limestone, it'll weather pretty fast.\n",
            "\n",
            "------------------------ Yahoo! Groups Sponsor ---------------------~-->\n",
            "4 DVDs Free +s&p Join Now\n",
            "http://us.click.yahoo.com/pt6YBB/NXiEAA/mG3HAA/7gSolB/TM\n",
            "---------------------------------------------------------------------~->\n",
            "\n",
            "To unsubscribe from this group, send an email to:\n",
            "forteana-unsubscribe@egroups.com\n",
            "\n",
            " \n",
            "\n",
            "Your use of Yahoo! Groups is subject to http://docs.yahoo.com/info/terms/\n"
          ]
        }
      ]
    },
    {
      "cell_type": "code",
      "source": [
        "print(spam_emails[6].get_content().strip())"
      ],
      "metadata": {
        "colab": {
          "base_uri": "https://localhost:8080/"
        },
        "id": "iO3r8hqmmiwW",
        "outputId": "bece5fbd-c95e-4f1b-de45-8feb5546c45c"
      },
      "execution_count": 9,
      "outputs": [
        {
          "output_type": "stream",
          "name": "stdout",
          "text": [
            "Help wanted.  We are a 14 year old fortune 500 company, that is\n",
            "growing at a tremendous rate.  We are looking for individuals who\n",
            "want to work from home.\n",
            "\n",
            "This is an opportunity to make an excellent income.  No experience\n",
            "is required.  We will train you.\n",
            "\n",
            "So if you are looking to be employed from home with a career that has\n",
            "vast opportunities, then go:\n",
            "\n",
            "http://www.basetel.com/wealthnow\n",
            "\n",
            "We are looking for energetic and self motivated people.  If that is you\n",
            "than click on the link and fill out the form, and one of our\n",
            "employement specialist will contact you.\n",
            "\n",
            "To be removed from our link simple go to:\n",
            "\n",
            "http://www.basetel.com/remove.html\n",
            "\n",
            "\n",
            "4139vOLW7-758DoDY1425FRhM1-764SMFc8513fCsLl40\n"
          ]
        }
      ]
    },
    {
      "cell_type": "code",
      "source": [
        "def get_email_structure(email):\n",
        "  if isinstance(email, str):\n",
        "    return email\n",
        "  payload = email.get_payload()\n",
        "  if isinstance(payload, list):\n",
        "    multipart = \", \".join([get_email_structure(sub_email) for sub_email in payload])\n",
        "    return f\"multipart({multipart})\"\n",
        "  else:\n",
        "    return email.get_content_type()"
      ],
      "metadata": {
        "id": "Ayt6ZHOemxqa"
      },
      "execution_count": 10,
      "outputs": []
    },
    {
      "cell_type": "code",
      "source": [
        "from collections import Counter\n",
        "\n",
        "def structures_counter(emails):\n",
        "  structures = Counter()\n",
        "  for email in emails:\n",
        "    structure = get_email_structure(email)\n",
        "    structures[structure] += 1\n",
        "  return structures"
      ],
      "metadata": {
        "id": "FRlqK6c3mxoE"
      },
      "execution_count": 11,
      "outputs": []
    },
    {
      "cell_type": "code",
      "source": [
        "structures_counter(ham_emails).most_common()"
      ],
      "metadata": {
        "id": "prYahtbpmxlj",
        "colab": {
          "base_uri": "https://localhost:8080/"
        },
        "outputId": "d228a01b-2e61-4244-c47f-7efb5ca78cda"
      },
      "execution_count": 12,
      "outputs": [
        {
          "output_type": "execute_result",
          "data": {
            "text/plain": [
              "[('text/plain', 2408),\n",
              " ('multipart(text/plain, application/pgp-signature)', 66),\n",
              " ('multipart(text/plain, text/html)', 8),\n",
              " ('multipart(text/plain, text/plain)', 4),\n",
              " ('multipart(text/plain)', 3),\n",
              " ('multipart(text/plain, application/octet-stream)', 2),\n",
              " ('multipart(text/plain, text/enriched)', 1),\n",
              " ('multipart(text/plain, application/ms-tnef, text/plain)', 1),\n",
              " ('multipart(multipart(text/plain, text/plain, text/plain), application/pgp-signature)',\n",
              "  1),\n",
              " ('multipart(text/plain, video/mng)', 1),\n",
              " ('multipart(text/plain, multipart(text/plain))', 1),\n",
              " ('multipart(text/plain, application/x-pkcs7-signature)', 1),\n",
              " ('multipart(text/plain, multipart(text/plain, text/plain), text/rfc822-headers)',\n",
              "  1),\n",
              " ('multipart(text/plain, multipart(text/plain, text/plain), multipart(multipart(text/plain, application/x-pkcs7-signature)))',\n",
              "  1),\n",
              " ('multipart(text/plain, application/x-java-applet)', 1)]"
            ]
          },
          "metadata": {},
          "execution_count": 12
        }
      ]
    },
    {
      "cell_type": "code",
      "source": [
        "structures_counter(spam_emails).most_common()"
      ],
      "metadata": {
        "id": "oQNTtdnEmxjM",
        "colab": {
          "base_uri": "https://localhost:8080/"
        },
        "outputId": "dbd3a060-1e49-4c80-cc17-33c04f7296ac"
      },
      "execution_count": 13,
      "outputs": [
        {
          "output_type": "execute_result",
          "data": {
            "text/plain": [
              "[('text/plain', 218),\n",
              " ('text/html', 183),\n",
              " ('multipart(text/plain, text/html)', 45),\n",
              " ('multipart(text/html)', 20),\n",
              " ('multipart(text/plain)', 19),\n",
              " ('multipart(multipart(text/html))', 5),\n",
              " ('multipart(text/plain, image/jpeg)', 3),\n",
              " ('multipart(text/html, application/octet-stream)', 2),\n",
              " ('multipart(text/plain, application/octet-stream)', 1),\n",
              " ('multipart(text/html, text/plain)', 1),\n",
              " ('multipart(multipart(text/html), application/octet-stream, image/jpeg)', 1),\n",
              " ('multipart(multipart(text/plain, text/html), image/gif)', 1),\n",
              " ('multipart/alternative', 1)]"
            ]
          },
          "metadata": {},
          "execution_count": 13
        }
      ]
    },
    {
      "cell_type": "markdown",
      "source": [
        "Clear difference between the structure of emails of spam and easy ham. So structure is an important piece of information."
      ],
      "metadata": {
        "id": "XYg9a9Samxg-"
      }
    },
    {
      "cell_type": "code",
      "source": [
        "for header, value in spam_emails[0].items():\n",
        "  print(header, \" : \", value)"
      ],
      "metadata": {
        "id": "tw_lCJGCmxeb",
        "colab": {
          "base_uri": "https://localhost:8080/"
        },
        "outputId": "e06e567e-8dea-47c9-8b30-a71f36c7c345"
      },
      "execution_count": 14,
      "outputs": [
        {
          "output_type": "stream",
          "name": "stdout",
          "text": [
            "Return-Path  :  <12a1mailbot1@web.de>\n",
            "Delivered-To  :  zzzz@localhost.spamassassin.taint.org\n",
            "Received  :  from localhost (localhost [127.0.0.1])\tby phobos.labs.spamassassin.taint.org (Postfix) with ESMTP id 136B943C32\tfor <zzzz@localhost>; Thu, 22 Aug 2002 08:17:21 -0400 (EDT)\n",
            "Received  :  from mail.webnote.net [193.120.211.219]\tby localhost with POP3 (fetchmail-5.9.0)\tfor zzzz@localhost (single-drop); Thu, 22 Aug 2002 13:17:21 +0100 (IST)\n",
            "Received  :  from dd_it7 ([210.97.77.167])\tby webnote.net (8.9.3/8.9.3) with ESMTP id NAA04623\tfor <zzzz@spamassassin.taint.org>; Thu, 22 Aug 2002 13:09:41 +0100\n",
            "From  :  12a1mailbot1@web.de\n",
            "Received  :  from r-smtp.korea.com - 203.122.2.197 by dd_it7  with Microsoft SMTPSVC(5.5.1775.675.6);\t Sat, 24 Aug 2002 09:42:10 +0900\n",
            "To  :  dcek1a1@netsgo.com\n",
            "Subject  :  Life Insurance - Why Pay More?\n",
            "Date  :  Wed, 21 Aug 2002 20:31:57 -1600\n",
            "MIME-Version  :  1.0\n",
            "Message-ID  :  <0103c1042001882DD_IT7@dd_it7>\n",
            "Content-Type  :  text/html; charset=\"iso-8859-1\"\n",
            "Content-Transfer-Encoding  :  quoted-printable\n"
          ]
        }
      ]
    },
    {
      "cell_type": "markdown",
      "source": [
        "Spilting the Data into Test and Train sets"
      ],
      "metadata": {
        "id": "kiZeaQJ-mxcI"
      }
    },
    {
      "cell_type": "code",
      "source": [
        "import numpy as np\n",
        "import pandas as pd\n",
        "from sklearn.model_selection import train_test_split\n",
        "\n",
        "X = np.array(ham_emails + spam_emails, dtype=object)\n",
        "y = np.array([0]*len(ham_emails) + [1]*len(spam_emails)) #0->ham; 1->spam\n",
        "\n",
        "X_train, X_test, y_train, y_test = train_test_split(X, y, test_size=0.2, random_state=42) #42 magic number that makes things alright? XD\n"
      ],
      "metadata": {
        "id": "KKJfiA9CmxZ0"
      },
      "execution_count": 15,
      "outputs": []
    },
    {
      "cell_type": "markdown",
      "source": [
        "EMAIL --> DATA PREPROCESS PIPELINE --> TRANSFORMER(EMAIL) --> [TEXT, URLS, PREPROCESS(remove punctutaions replace numbers stemming etc)] -->MATRIX(CSR VOCAB) <--DATA PREPROCESS PIPELINE --> MACHINE_LEARNING --> MODEL"
      ],
      "metadata": {
        "id": "yFQfl5AgziwH"
      }
    },
    {
      "cell_type": "markdown",
      "source": [
        "Convert HTML To Plain text, ideally use beautiful soup"
      ],
      "metadata": {
        "id": "xWxdOQy6mxXT"
      }
    },
    {
      "cell_type": "code",
      "source": [
        "#using regex to find and strip html\n",
        "\n",
        "import re\n",
        "from html import unescape\n",
        "\n",
        "def html_to_plain_text(html):\n",
        "  text = re.sub(\"<head.*?>.*?</head>\", \"\", html, flags=re.M | re.S | re.I)\n",
        "  text = re.sub(\"<style.*?>.*?</style>\", \"\", text, flags=re.M | re.S | re.I) # can use this to see similary styled spam pages\n",
        "  text = re.sub(\"<script.*?>.*?</script>\", \"\", text, flags=re.M | re.S | re.I) #can check for scripts and comments also\n",
        "  text = re.sub(\"<!--.*?-->\", \"\", text, flags=re.M | re.S)\n",
        "  text = re.sub(\"<a\\s.*?>\", \" HYPERLINK \", text, flags = re.M | re.S | re.I)\n",
        "  text = re.sub(\"<.*?>\", \"\", text, flags=re.M | re.S)\n",
        "  text = re.sub(r'(\\s*\\n)+', \" \\n \", text, flags=re.M | re.S)\n",
        "  return unescape(text)"
      ],
      "metadata": {
        "id": "MAgD3TLQmxU7"
      },
      "execution_count": 16,
      "outputs": []
    },
    {
      "cell_type": "code",
      "source": [
        "spam_sample = [email for email in X_train[y_train==1] if get_email_structure(email) == \"text/html\"][7]\n",
        "print(spam_sample.get_content().strip()[:1000], \"...\")"
      ],
      "metadata": {
        "id": "bqOIe2CNmxSS",
        "colab": {
          "base_uri": "https://localhost:8080/"
        },
        "outputId": "dfa1c98d-6467-4517-ff3c-a01732e181a3"
      },
      "execution_count": 17,
      "outputs": [
        {
          "output_type": "stream",
          "name": "stdout",
          "text": [
            "<HTML><HEAD><TITLE></TITLE><META http-equiv=\"Content-Type\" content=\"text/html; charset=windows-1252\"><STYLE>A:link {TEX-DECORATION: none}A:active {TEXT-DECORATION: none}A:visited {TEXT-DECORATION: none}A:hover {COLOR: #0033ff; TEXT-DECORATION: underline}</STYLE><META content=\"MSHTML 6.00.2713.1100\" name=\"GENERATOR\"></HEAD>\n",
            "<BODY text=\"#000000\" vLink=\"#0033ff\" link=\"#0033ff\" bgColor=\"#CCCC99\"><TABLE borderColor=\"#660000\" cellSpacing=\"0\" cellPadding=\"0\" border=\"0\" width=\"100%\"><TR><TD bgColor=\"#CCCC99\" valign=\"top\" colspan=\"2\" height=\"27\">\n",
            "<font size=\"6\" face=\"Arial, Helvetica, sans-serif\" color=\"#660000\">\n",
            "<b>OTC</b></font></TD></TR><TR><TD height=\"2\" bgcolor=\"#6a694f\">\n",
            "<font size=\"5\" face=\"Times New Roman, Times, serif\" color=\"#FFFFFF\">\n",
            "<b>&nbsp;Newsletter</b></font></TD><TD height=\"2\" bgcolor=\"#6a694f\"><div align=\"right\"><font color=\"#FFFFFF\">\n",
            "<b>Discover Tomorrow's Winners&nbsp;</b></font></div></TD></TR><TR><TD height=\"25\" colspan=\"2\" bgcolor=\"#CCCC99\"><table width=\"100%\" border=\"0\"  ...\n"
          ]
        }
      ]
    },
    {
      "cell_type": "code",
      "source": [
        "print(html_to_plain_text(spam_sample.get_content())[:1000], \"...\")"
      ],
      "metadata": {
        "id": "LCmv19ZjmxQK",
        "colab": {
          "base_uri": "https://localhost:8080/"
        },
        "outputId": "8a77024b-fd80-4a7b-bc61-a22a4adee502"
      },
      "execution_count": 18,
      "outputs": [
        {
          "output_type": "stream",
          "name": "stdout",
          "text": [
            " \n",
            " OTC \n",
            "  Newsletter \n",
            " Discover Tomorrow's Winners  \n",
            " For Immediate Release \n",
            " Cal-Bay (Stock Symbol: CBYI) \n",
            " Watch for analyst \"Strong Buy Recommendations\" and several advisory newsletters picking CBYI.  CBYI has filed to be traded on the OTCBB, share prices historically INCREASE when companies get listed on this larger trading exchange. CBYI is trading around 25 cents and should skyrocket to $2.66 - $3.25 a share in the near future. \n",
            " Put CBYI on your watch list, acquire a position TODAY. \n",
            " REASONS TO INVEST IN CBYI \n",
            " A profitable company and is on track to beat ALL earnings estimates! \n",
            " One of the FASTEST growing distributors in environmental & safety equipment instruments. \n",
            " Excellent management team, several EXCLUSIVE contracts.  IMPRESSIVE client list including the U.S. Air Force, Anheuser-Busch, Chevron Refining and Mitsubishi Heavy Industries, GE-Energy & Environmental Research. \n",
            " RAPIDLY GROWING INDUSTRY \n",
            " Industry revenues exceed $900 million, estimates indicate that there cou ...\n"
          ]
        }
      ]
    },
    {
      "cell_type": "code",
      "source": [
        "def email_to_text(email):\n",
        "  html = None\n",
        "  for part in email.walk():\n",
        "    ctype = part.get_content_type()\n",
        "    if not ctype in (\"text/plain\", \"text/html\"):\n",
        "      continue\n",
        "    try:\n",
        "      content = part.get_content()\n",
        "    except: #incase of encoding issues\n",
        "      content = str(part.get_payload())\n",
        "    if ctype == \"text/plain\":\n",
        "      return content\n",
        "    else:\n",
        "      html = content\n",
        "  if html:\n",
        "      return html_to_plain_text(html)"
      ],
      "metadata": {
        "id": "4XiOoWQAmxNq"
      },
      "execution_count": 19,
      "outputs": []
    },
    {
      "cell_type": "code",
      "source": [
        "print(email_to_text(spam_sample)[:100], \"...\")"
      ],
      "metadata": {
        "id": "_1F_IjSSmxLQ",
        "colab": {
          "base_uri": "https://localhost:8080/"
        },
        "outputId": "f6d444f5-23aa-45cb-cd7d-5ca3a56a890c"
      },
      "execution_count": 20,
      "outputs": [
        {
          "output_type": "stream",
          "name": "stdout",
          "text": [
            " \n",
            " OTC \n",
            "  Newsletter \n",
            " Discover Tomorrow's Winners  \n",
            " For Immediate Release \n",
            " Cal-Bay (Stock Symbol: ...\n"
          ]
        }
      ]
    },
    {
      "cell_type": "markdown",
      "source": [
        "Using stemming from NLTK. A more modern approach would be lemmatization"
      ],
      "metadata": {
        "id": "BE4DVSf69YKO"
      }
    },
    {
      "cell_type": "code",
      "source": [
        "# imports and example of simple stemmer, can use nltk lemmatization\n",
        "import nltk\n",
        "\n",
        "stemmer = nltk.PorterStemmer()\n",
        "for word in (\"Computations\", \"Computation\", \"Computing\", \"Computed\", \"Compute\", \"Compulsive\"):\n",
        "  print(word, \" : \", stemmer.stem(word))\n",
        "for word in (\"Working\", \"Worked\", \"Works\", \"Working\", \"Work\", \"Works\"):\n",
        "  print(word, \" : \", stemmer.stem(word))\n"
      ],
      "metadata": {
        "id": "uhsS_YzrmxJI",
        "colab": {
          "base_uri": "https://localhost:8080/"
        },
        "outputId": "49a5bf91-ac94-42e5-ffd6-30410bba1c32"
      },
      "execution_count": 21,
      "outputs": [
        {
          "output_type": "stream",
          "name": "stdout",
          "text": [
            "Computations  :  comput\n",
            "Computation  :  comput\n",
            "Computing  :  comput\n",
            "Computed  :  comput\n",
            "Compute  :  comput\n",
            "Compulsive  :  compuls\n",
            "Working  :  work\n",
            "Worked  :  work\n",
            "Works  :  work\n",
            "Working  :  work\n",
            "Work  :  work\n",
            "Works  :  work\n"
          ]
        }
      ]
    },
    {
      "cell_type": "code",
      "source": [
        "#ONLY ON COLAB, ELSE PIP INSTALL DEPENDCIES, CHECK README.md for all imports and dependcies\n",
        "%pip install -q -U urlextract"
      ],
      "metadata": {
        "id": "S5qXIDFd7UyW"
      },
      "execution_count": 22,
      "outputs": []
    },
    {
      "cell_type": "code",
      "source": [
        "import urlextract #needs internet, but on colab so no problem\n",
        "#Example\n",
        "url_extractor = urlextract.URLExtract()\n",
        "some_text = \"CHECK is it will detect some websites like wikipedia.com and https://www.youtube.com/watch?v=YwkyPP111Lc\"\n",
        "print(url_extractor.find_urls(some_text))"
      ],
      "metadata": {
        "colab": {
          "base_uri": "https://localhost:8080/"
        },
        "id": "khOBl0BH7UvU",
        "outputId": "b834afc2-0ad1-4a54-eba9-80a967fb6ccb"
      },
      "execution_count": 23,
      "outputs": [
        {
          "output_type": "stream",
          "name": "stdout",
          "text": [
            "['wikipedia.com', 'https://www.youtube.com/watch?v=YwkyPP111Lc']\n"
          ]
        }
      ]
    },
    {
      "cell_type": "markdown",
      "source": [
        "BaseEstimator: This class serves as the foundation for all estimators (models) in scikit-learn. It provides essential functionalities like:\n",
        "- Setting and getting parameters of the model using get_params and set_params methods.\n",
        "- Standardizing the output format for estimators.\n",
        "- Basic input validation.\n",
        "<br>\n",
        "<br>\n",
        "TransformerMixin: This is a mixin class, meaning it's meant to be inherited along with another class. It's specifically designed for transformers, which are a type of estimator that transforms data.  Key features of TransformerMixin include:\n",
        "- fit_transform method: This combines the fit (learning parameters from data) and transform (applying the learned transformation) steps into a single method for convenience.\n",
        "- set_output method: This allows you to specify the desired output container type for the transformed data.\n",
        "- By importing these classes, you can create custom estimators and transformers that adhere to the scikit-learn API conventions, making them compatible with other scikit-learn tools like pipelines and grid search."
      ],
      "metadata": {
        "id": "UcHa9S1yBqrk"
      }
    },
    {
      "cell_type": "markdown",
      "source": [
        "Staring with the custom pipeline components/tasks which will wraped in sklearn.make_pipeline"
      ],
      "metadata": {
        "id": "iD3dgKlsBaDe"
      }
    },
    {
      "cell_type": "code",
      "source": [
        "from sklearn.base import BaseEstimator, TransformerMixin\n",
        "\n",
        "class Email2WordCounterTransformer(BaseEstimator, TransformerMixin):\n",
        "  def __init__(self, strip_headers=True, lower_case=True,\n",
        "               remove_punctuation=True, replace_urls=True,\n",
        "               replace_numbers=True, stemming=True):\n",
        "    self.strip_headers = strip_headers\n",
        "    self.lower_case = lower_case\n",
        "    self.remove_punctuation = remove_punctuation\n",
        "    self.replace_urls = replace_urls\n",
        "    self.replace_numbers = replace_numbers\n",
        "    self.stemming = stemming\n",
        "\n",
        "  def fit(self, X, y=None):\n",
        "    return self #? self.fit?\n",
        "\n",
        "  def transform(self, X, y=None):\n",
        "    X_transformed = []\n",
        "    for email in X:\n",
        "      text = email_to_text(email) or \"\"\n",
        "      if self.lower_case:\n",
        "        text = text.lower()\n",
        "      if self.replace_urls and url_extractor is not None: # USEFUL FEATURE\n",
        "        urls = list(set(url_extractor.find_urls(text)))\n",
        "        urls.sort(key=lambda url : len(url), reverse=True)\n",
        "        for url in urls:\n",
        "          text = text.replace(url, \" URL \") # clearly not ideal, can create another column in\n",
        "          #                                 X and convert urls to vectors and in training similar\n",
        "          #                                 spam urls will move closer to together with an embedding,\n",
        "          #                                 can use this as second input in neural network so spam urls move\n",
        "          #                                  closer in embedding space lol come back and use this feature and try for better results\n",
        "      if self.replace_numbers:\n",
        "        text = re.sub(r\"\\d+(?:\\.\\d*)?(?:[eE][+-]?\\d+)?\", \"NUMBER\", text)\n",
        "      if self.remove_punctuation:\n",
        "         text = re.sub(r\"\\W+\", \" \", text, flags=re.M)\n",
        "      word_counts = Counter(text.split())\n",
        "      if self.stemming and stemmer is not None:\n",
        "         stemmed_word_counts = Counter()\n",
        "         for word, count in word_counts.items():\n",
        "           stemmed_word = stemmer.stem(word)\n",
        "           stemmed_word_counts[stemmed_word] += count\n",
        "         word_counts = stemmed_word_counts\n",
        "      X_transformed.append(word_counts)\n",
        "    return np.array(X_transformed)"
      ],
      "metadata": {
        "id": "AeGkeE7s7Usd"
      },
      "execution_count": 34,
      "outputs": []
    },
    {
      "cell_type": "code",
      "source": [
        "X_few = X_train[:3]\n",
        "X_few_wordcounts = Email2WordCounterTransformer().fit_transform(X_few)\n",
        "X_few_wordcounts"
      ],
      "metadata": {
        "id": "FQajclie7Upz",
        "colab": {
          "base_uri": "https://localhost:8080/"
        },
        "outputId": "0821afbc-2efd-4817-e1ec-e945cf8890c3"
      },
      "execution_count": 39,
      "outputs": [
        {
          "output_type": "execute_result",
          "data": {
            "text/plain": [
              "array([Counter({'chuck': 1, 'murcko': 1, 'wrote': 1, 'stuff': 1, 'yawn': 1, 'r': 1}),\n",
              "       Counter({'the': 11, 'of': 9, 'and': 8, 'all': 3, 'christian': 3, 'to': 3, 'by': 3, 'jefferson': 2, 'i': 2, 'have': 2, 'superstit': 2, 'one': 2, 'on': 2, 'been': 2, 'ha': 2, 'half': 2, 'rogueri': 2, 'teach': 2, 'jesu': 2, 'some': 1, 'interest': 1, 'quot': 1, 'url': 1, 'thoma': 1, 'examin': 1, 'known': 1, 'word': 1, 'do': 1, 'not': 1, 'find': 1, 'in': 1, 'our': 1, 'particular': 1, 'redeem': 1, 'featur': 1, 'they': 1, 'are': 1, 'alik': 1, 'found': 1, 'fabl': 1, 'mytholog': 1, 'million': 1, 'innoc': 1, 'men': 1, 'women': 1, 'children': 1, 'sinc': 1, 'introduct': 1, 'burnt': 1, 'tortur': 1, 'fine': 1, 'imprison': 1, 'what': 1, 'effect': 1, 'thi': 1, 'coercion': 1, 'make': 1, 'world': 1, 'fool': 1, 'other': 1, 'hypocrit': 1, 'support': 1, 'error': 1, 'over': 1, 'earth': 1, 'six': 1, 'histor': 1, 'american': 1, 'john': 1, 'e': 1, 'remsburg': 1, 'letter': 1, 'william': 1, 'short': 1, 'again': 1, 'becom': 1, 'most': 1, 'pervert': 1, 'system': 1, 'that': 1, 'ever': 1, 'shone': 1, 'man': 1, 'absurd': 1, 'untruth': 1, 'were': 1, 'perpetr': 1, 'upon': 1, 'a': 1, 'larg': 1, 'band': 1, 'dupe': 1, 'import': 1, 'led': 1, 'paul': 1, 'first': 1, 'great': 1, 'corrupt': 1}),\n",
              "       Counter({'url': 4, 's': 3, 'group': 3, 'to': 3, 'in': 2, 'forteana': 2, 'martin': 2, 'an': 2, 'and': 2, 'we': 2, 'is': 2, 'yahoo': 2, 'unsubscrib': 2, 'y': 1, 'adamson': 1, 'wrote': 1, 'for': 1, 'altern': 1, 'rather': 1, 'more': 1, 'factual': 1, 'base': 1, 'rundown': 1, 'on': 1, 'hamza': 1, 'career': 1, 'includ': 1, 'hi': 1, 'belief': 1, 'that': 1, 'all': 1, 'non': 1, 'muslim': 1, 'yemen': 1, 'should': 1, 'be': 1, 'murder': 1, 'outright': 1, 'know': 1, 'how': 1, 'unbias': 1, 'memri': 1, 'don': 1, 't': 1, 'html': 1, 'rob': 1, 'sponsor': 1, 'number': 1, 'dvd': 1, 'free': 1, 'p': 1, 'join': 1, 'now': 1, 'from': 1, 'thi': 1, 'send': 1, 'email': 1, 'egroup': 1, 'com': 1, 'your': 1, 'use': 1, 'of': 1, 'subject': 1})],\n",
              "      dtype=object)"
            ]
          },
          "metadata": {},
          "execution_count": 39
        }
      ]
    },
    {
      "cell_type": "code",
      "source": [
        "from scipy.sparse import csr_matrix\n",
        "\n",
        "class WordCounter2VectorTransformer(BaseEstimator, TransformerMixin):\n",
        "  def __init__(self, vocabulary_size=1000):\n",
        "    self.vocabulary_size = vocabulary_size\n",
        "\n",
        "  def fit(self, X, y=None):\n",
        "    total_count = Counter()\n",
        "    for word_count in X:\n",
        "      for word, count in word_count.items():\n",
        "        total_count[word] += min(count, 10)\n",
        "\n",
        "    most_common = total_count.most_common()[:self.vocabulary_size]\n",
        "    self.vocabulary_ = {\n",
        "        word: index + 1\n",
        "        for index, (word, count) in enumerate(most_common)\n",
        "    }\n",
        "    return self #always return self for fit\n",
        "\n",
        "  def transform(self, X, y=None):\n",
        "    rows = []\n",
        "    cols = []\n",
        "    data = []\n",
        "    for row, word_count in enumerate(X):\n",
        "      for word, count in word_count.items():\n",
        "        rows.append(row)\n",
        "        cols.append(self.vocabulary_.get(word, 0))\n",
        "        data.append(count)\n",
        "    return csr_matrix((data, (rows, cols)), shape=(len(X), self.vocabulary_size + 1))\n"
      ],
      "metadata": {
        "id": "swa_fXRl7Une"
      },
      "execution_count": 44,
      "outputs": []
    },
    {
      "cell_type": "code",
      "source": [
        "vocab_transformer = WordCounter2VectorTransformer(vocabulary_size=10)\n",
        "X_few_vectors = vocab_transformer.fit_transform(X_few_wordcounts)\n",
        "X_few_vectors"
      ],
      "metadata": {
        "id": "PnDy71Me7Uk-",
        "colab": {
          "base_uri": "https://localhost:8080/"
        },
        "outputId": "23bde28e-d95b-453c-8e5f-83b844d31089"
      },
      "execution_count": 45,
      "outputs": [
        {
          "output_type": "execute_result",
          "data": {
            "text/plain": [
              "<3x11 sparse matrix of type '<class 'numpy.int64'>'\n",
              "\twith 20 stored elements in Compressed Sparse Row format>"
            ]
          },
          "metadata": {},
          "execution_count": 45
        }
      ]
    },
    {
      "cell_type": "code",
      "source": [
        "X_few_vectors.toarray()"
      ],
      "metadata": {
        "id": "h4BR4_bn7Uii",
        "colab": {
          "base_uri": "https://localhost:8080/"
        },
        "outputId": "fbee7ec8-e413-4f96-ff81-8d54982876c2"
      },
      "execution_count": 47,
      "outputs": [
        {
          "output_type": "execute_result",
          "data": {
            "text/plain": [
              "array([[ 6,  0,  0,  0,  0,  0,  0,  0,  0,  0,  0],\n",
              "       [99, 11,  9,  8,  3,  1,  3,  1,  3,  2,  3],\n",
              "       [67,  0,  1,  2,  3,  4,  1,  2,  0,  1,  0]])"
            ]
          },
          "metadata": {},
          "execution_count": 47
        }
      ]
    },
    {
      "cell_type": "code",
      "source": [
        "vocab_transformer.vocabulary_"
      ],
      "metadata": {
        "id": "nkSBrSgv7Ufx",
        "colab": {
          "base_uri": "https://localhost:8080/"
        },
        "outputId": "8d0119e8-2035-4539-c5dd-974236977b17"
      },
      "execution_count": 49,
      "outputs": [
        {
          "output_type": "execute_result",
          "data": {
            "text/plain": [
              "{'the': 1,\n",
              " 'of': 2,\n",
              " 'and': 3,\n",
              " 'to': 4,\n",
              " 'url': 5,\n",
              " 'all': 6,\n",
              " 'in': 7,\n",
              " 'christian': 8,\n",
              " 'on': 9,\n",
              " 'by': 10}"
            ]
          },
          "metadata": {},
          "execution_count": 49
        }
      ]
    },
    {
      "cell_type": "markdown",
      "source": [
        "## Training"
      ],
      "metadata": {
        "id": "JDsm06PkuPdI"
      }
    },
    {
      "cell_type": "code",
      "source": [
        "from sklearn.pipeline import Pipeline\n",
        "\n",
        "preprocess_pipeline = Pipeline([\n",
        "    (\"email_to_wordcount\", Email2WordCounterTransformer()),\n",
        "    (\"wordcount_to_vector\", WordCounter2VectorTransformer())\n",
        "    ])\n",
        "X_train_transformed = preprocess_pipeline.fit_transform(X_train)"
      ],
      "metadata": {
        "id": "puONLVar7UdJ"
      },
      "execution_count": 51,
      "outputs": []
    },
    {
      "cell_type": "code",
      "source": [
        "from sklearn.linear_model import LogisticRegression\n",
        "from sklearn.model_selection import cross_val_score\n",
        "\n",
        "log_clf = LogisticRegression(max_iter=1000, random_state=42)\n",
        "score = cross_val_score(log_clf, X_train_transformed, y_train, cv=3)\n"
      ],
      "metadata": {
        "id": "lf73JSIv7Uar"
      },
      "execution_count": 53,
      "outputs": []
    },
    {
      "cell_type": "code",
      "source": [
        "score.mean()"
      ],
      "metadata": {
        "id": "1W9rLVNR7UYa",
        "colab": {
          "base_uri": "https://localhost:8080/"
        },
        "outputId": "2f951805-9abc-4f4a-a9f5-837ab524f6b3"
      },
      "execution_count": 54,
      "outputs": [
        {
          "output_type": "execute_result",
          "data": {
            "text/plain": [
              "0.985"
            ]
          },
          "metadata": {},
          "execution_count": 54
        }
      ]
    },
    {
      "cell_type": "markdown",
      "source": [
        "### X-X-X-X-X-X-X-X-X-X-X-X-X-X-X-X-X-X-X-X-X-X-X-X-X-X-X-X-X"
      ],
      "metadata": {
        "id": "fcmfcm50jGA8"
      }
    }
  ]
}